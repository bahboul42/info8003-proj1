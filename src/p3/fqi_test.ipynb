{
 "cells": [
  {
   "cell_type": "code",
   "execution_count": 7,
   "metadata": {},
   "outputs": [
    {
     "name": "stdout",
     "output_type": "stream",
     "text": [
      "tensor([[ 0.5000, -0.1000,  0.3000,  0.4000, -1.0000],\n",
      "        [ 0.5000, -0.1000,  0.3000,  0.4000,  1.0000],\n",
      "        [ 0.6000, -0.1600,  0.6000, -0.7000, -1.0000],\n",
      "        [ 0.6000, -0.1600,  0.6000, -0.7000,  1.0000]])\n"
     ]
    }
   ],
   "source": [
    "import torch\n",
    "\n",
    "def prepare_state_action_pairs(states, actions):\n",
    "    \"\"\"\n",
    "    Prepare state-action pairs for all actions and all states in the batch.\n",
    "\n",
    "    Parameters:\n",
    "        states (torch.Tensor): The state tensor of shape [batch_size, state_dim].\n",
    "        actions (torch.Tensor): A linspace tensor of actions of shape [num_actions].\n",
    "\n",
    "    Returns:\n",
    "        torch.Tensor: A tensor of shape [batch_size * num_actions, state_dim + 1] where each state\n",
    "                      is repeated for each action and concatenated with the action.\n",
    "    \"\"\"\n",
    "    # Number of actions and batch size\n",
    "    num_actions = actions.size(0)\n",
    "    batch_size = states.size(0)\n",
    "    \n",
    "    # Repeat each state for each action\n",
    "    states = states.unsqueeze(1).repeat(1, num_actions, 1)\n",
    "    states = states.view(batch_size * num_actions, -1)\n",
    "\n",
    "    # Repeat actions for the whole batch\n",
    "    actions = actions.repeat(batch_size, 1).view(batch_size * num_actions, 1)\n",
    "    \n",
    "    # Concatenate states with actions\n",
    "    state_action_pairs = torch.cat((states, actions), dim=1)\n",
    "    \n",
    "    return state_action_pairs\n",
    "\n",
    "# Example usage:\n",
    "states = torch.tensor([[0.5, -0.1, 0.3, .4], [0.6, -0.16, 0.6, -.7]])  # Example state vectors for two instances\n",
    "actions = torch.linspace(-1, 1, steps=2)  # Example actions\n",
    "\n",
    "state_action_pairs = prepare_state_action_pairs(states, actions)\n",
    "\n",
    "NUM_ACTIONS = 2\n",
    "N_FEATURES = 4\n",
    "N_BATCH = 2\n",
    "\n",
    "print(state_action_pairs)\n"
   ]
  },
  {
   "cell_type": "code",
   "execution_count": 10,
   "metadata": {},
   "outputs": [
    {
     "data": {
      "text/plain": [
       "tensor([[ 0.5000, -0.1000,  0.3000,  0.4000, -1.0000,  0.5000, -0.1000,  0.3000,\n",
       "          0.4000,  1.0000],\n",
       "        [ 0.6000, -0.1600,  0.6000, -0.7000, -1.0000,  0.6000, -0.1600,  0.6000,\n",
       "         -0.7000,  1.0000]])"
      ]
     },
     "execution_count": 10,
     "metadata": {},
     "output_type": "execute_result"
    }
   ],
   "source": [
    "state_action_pairs = state_action_pairs.view(N_BATCH, (N_FEATURES + 1) * NUM_ACTIONS)\n",
    "state_action_pairs"
   ]
  },
  {
   "cell_type": "code",
   "execution_count": 13,
   "metadata": {},
   "outputs": [
    {
     "data": {
      "text/plain": [
       "tensor([[ 0.5000, -0.1000,  0.3000,  0.4000, -1.0000],\n",
       "        [ 0.5000, -0.1000,  0.3000,  0.4000,  1.0000],\n",
       "        [ 0.6000, -0.1600,  0.6000, -0.7000, -1.0000],\n",
       "        [ 0.6000, -0.1600,  0.6000, -0.7000,  1.0000]])"
      ]
     },
     "execution_count": 13,
     "metadata": {},
     "output_type": "execute_result"
    }
   ],
   "source": [
    "state_action_pairs = state_action_pairs.view(N_BATCH * NUM_ACTIONS, N_FEATURES + 1)\n",
    "state_action_pairs\n"
   ]
  },
  {
   "cell_type": "code",
   "execution_count": 18,
   "metadata": {},
   "outputs": [
    {
     "data": {
      "text/plain": [
       "tensor([[1],\n",
       "        [4],\n",
       "        [7],\n",
       "        [2]])"
      ]
     },
     "execution_count": 18,
     "metadata": {},
     "output_type": "execute_result"
    }
   ],
   "source": [
    "t = torch.tensor([[1], [4], [7], [2]])\n",
    "t"
   ]
  },
  {
   "cell_type": "code",
   "execution_count": 21,
   "metadata": {},
   "outputs": [
    {
     "data": {
      "text/plain": [
       "tensor([[1, 4],\n",
       "        [7, 2]])"
      ]
     },
     "execution_count": 21,
     "metadata": {},
     "output_type": "execute_result"
    }
   ],
   "source": [
    "t = t.view(-1, NUM_ACTIONS)\n",
    "\n",
    "t"
   ]
  }
 ],
 "metadata": {
  "kernelspec": {
   "display_name": "odm",
   "language": "python",
   "name": "python3"
  },
  "language_info": {
   "codemirror_mode": {
    "name": "ipython",
    "version": 3
   },
   "file_extension": ".py",
   "mimetype": "text/x-python",
   "name": "python",
   "nbconvert_exporter": "python",
   "pygments_lexer": "ipython3",
   "version": "3.11.7"
  }
 },
 "nbformat": 4,
 "nbformat_minor": 2
}
